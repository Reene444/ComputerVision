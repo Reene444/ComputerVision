{
 "cells": [
  {
   "attachments": {},
   "cell_type": "markdown",
   "metadata": {},
   "source": [
    "# Lab 4 Image Registration\n",
    "\n",
    "In this lab exercise, you will look at image registration using hand-picked selected features.\n",
    "\n",
    "You are asked to write a short (no more than 2 pages) report of your work, answering specific questions, and showing example images. This work is not assessed (it will not count towards your module mark) but you will get formative feedback. "
   ]
  },
  {
   "cell_type": "markdown",
   "metadata": {},
   "source": [
    "In this exercise, we will be performing image registration on two different views of a fish embryo. To achieve the following steps need to be taken:\n",
    "\n",
    "- Load in the two images:\n",
    "    - fish-vis.tif (transmission image, visible light)\n",
    "    - fish-cfp-#.tif (the floating image that is to be registered to the base image. This is a grey-level version of a fluorescence image with Cyan Fluorescent Protein - CFP)\n",
    "\n",
    "- Use the existing skeleton code to find matching key points across the two images.\n",
    "    - This may involve some trial and error of manually entering coordinates and updating the figure\n",
    "\n",
    "- Perform transformation estimation using the estimated keypoints\n",
    "- Register the two images using a warp function\n",
    "- Display an overlayed image (blue and red) \n",
    "\n",
    "Example of overlay:\n",
    "\n",
    "![Example image](example.png)"
   ]
  },
  {
   "cell_type": "code",
   "execution_count": null,
   "metadata": {},
   "outputs": [],
   "source": [
    "\n",
    "from skimage import io\n",
    "import skimage as ski\n",
    "import matplotlib.pyplot as plt\n",
    "import numpy as np\n",
    "\n",
    "# Load Images\n",
    "\n",
    "img_vis = None # replace None\n",
    "img_cfp = None"
   ]
  },
  {
   "cell_type": "code",
   "execution_count": null,
   "metadata": {},
   "outputs": [],
   "source": [
    "## Extract Keypoints\n",
    "\n",
    "fig,axes = plt.subplots(2, 1,figsize=(10, 10))\n",
    "\n",
    "#Fill in the key points array in the form as follows [[x1,y1],[x2,y2],[x3,y3]]\n",
    "keypointsA = []\n",
    "keypointsB = []\n",
    "\n",
    "# Display the key points\n",
    "symbols = ['ro','bo','rv','bv','r+','b+']\n",
    "ax = axes.ravel()\n",
    "\n",
    "for i in range(0,len(keypointsA)):\n",
    "    ax[0].plot(keypointsA[i][0],keypointsA[i][1],symbols[i])\n",
    "for i in range(0,len(keypointsB)):    \n",
    "    ax[1].plot(keypointsB[i][0],keypointsB[i][1],symbols[i])\n",
    "\n",
    "ax[0].imshow(img_vis)\n",
    "ax[1].imshow(img_cfp)"
   ]
  },
  {
   "cell_type": "code",
   "execution_count": null,
   "metadata": {},
   "outputs": [],
   "source": [
    "\n",
    "# Estimate the transform: https://scikit-image.org/docs/stable/auto_examples/registration/plot_opticalflow.html#sphx-glr-auto-examples-registration-plot-opticalflow-py\n",
    "\n",
    "\n",
    "# Create the overlayed images: https://scikit-image.org/docs/stable/auto_examples/registration/plot_opticalflow.html#sphx-glr-auto-examples-registration-plot-opticalflow-py\n",
    "\n",
    "#Ouput the overlayed images\n"
   ]
  },
  {
   "cell_type": "markdown",
   "metadata": {},
   "source": [
    "##### Question 1: What is the effect of increasing/decreasing the number of chosen control points in registration accuracy?"
   ]
  },
  {
   "cell_type": "markdown",
   "metadata": {},
   "source": [
    "##### Question 2: How would you evaluate the accuracy of your registration?"
   ]
  },
  {
   "cell_type": "markdown",
   "metadata": {},
   "source": [
    "##### Question 3: Other than Projective Transform, what are the other options and which one do you think works best?"
   ]
  }
 ],
 "metadata": {
  "kernelspec": {
   "display_name": "venv",
   "language": "python",
   "name": "python3"
  },
  "language_info": {
   "codemirror_mode": {
    "name": "ipython",
    "version": 3
   },
   "file_extension": ".py",
   "mimetype": "text/x-python",
   "name": "python",
   "nbconvert_exporter": "python",
   "pygments_lexer": "ipython3",
   "version": "3.12.0"
  },
  "orig_nbformat": 4,
  "vscode": {
   "interpreter": {
    "hash": "74a34817a5cd2140ee5dc8be93178d611a51b0c87e7dbd285328f223a7951b22"
   }
  }
 },
 "nbformat": 4,
 "nbformat_minor": 2
}
